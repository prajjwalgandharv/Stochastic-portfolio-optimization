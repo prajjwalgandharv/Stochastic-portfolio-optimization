{
 "cells": [
  {
   "cell_type": "code",
   "execution_count": 1,
   "id": "63c71a5f",
   "metadata": {},
   "outputs": [
    {
     "data": {
      "text/plain": [
       "MathOptInterface"
      ]
     },
     "execution_count": 1,
     "metadata": {},
     "output_type": "execute_result"
    }
   ],
   "source": [
    "using CSV, DataFrames, LinearAlgebra, Statistics, Dates, Random\n",
    "using JuMP, HiGHS\n",
    "using MathOptInterface\n",
    "const MOI = MathOptInterface"
   ]
  },
  {
   "cell_type": "code",
   "execution_count": 2,
   "id": "1282496a",
   "metadata": {},
   "outputs": [
    {
     "data": {
      "text/plain": [
       "50-element Vector{String7}:\n",
       " \"AAPL\"\n",
       " \"MSFT\"\n",
       " \"GOOGL\"\n",
       " \"AMZN\"\n",
       " \"META\"\n",
       " \"NVDA\"\n",
       " \"AVGO\"\n",
       " \"ORCL\"\n",
       " \"IBM\"\n",
       " \"SAP\"\n",
       " \"JPM\"\n",
       " \"BAC\"\n",
       " \"WFC\"\n",
       " ⋮\n",
       " \"NOW\"\n",
       " \"SNOW\"\n",
       " \"AMD\"\n",
       " \"TSM\"\n",
       " \"ASML\"\n",
       " \"AMAT\"\n",
       " \"TSLA\"\n",
       " \"FSLR\"\n",
       " \"ENPH\"\n",
       " \"NEE\"\n",
       " \"PLTR\"\n",
       " \"PANW\""
      ]
     },
     "execution_count": 2,
     "metadata": {},
     "output_type": "execute_result"
    }
   ],
   "source": [
    "returns_path = joinpath(\"out\", \"returns.csv\")\n",
    "tickers_path = joinpath(\"out\", \"tickers.csv\")\n",
    "rets_df = CSV.read(returns_path, DataFrame)\n",
    "tickers = CSV.read(tickers_path, DataFrame).ticker|> collect"
   ]
  },
  {
   "cell_type": "code",
   "execution_count": 3,
   "id": "25c460c2",
   "metadata": {},
   "outputs": [
    {
     "data": {
      "text/plain": [
       "357"
      ]
     },
     "execution_count": 3,
     "metadata": {},
     "output_type": "execute_result"
    }
   ],
   "source": [
    "n = length(tickers)\n",
    "select!(rets_df, [:Date; Symbol.(tickers)])\n",
    "dates = Date.(rets_df.Date)\n",
    "Random.seed!(123)\n",
    "R = Matrix{Float64}(select(rets_df, Not(:Date)))#T daily percent returns of 50 stocks\n",
    "T = size(R, 1)"
   ]
  },
  {
   "cell_type": "code",
   "execution_count": 4,
   "id": "60bf0d6c",
   "metadata": {},
   "outputs": [
    {
     "data": {
      "text/plain": [
       "psd_clip (generic function with 1 method)"
      ]
     },
     "execution_count": 4,
     "metadata": {},
     "output_type": "execute_result"
    }
   ],
   "source": [
    "# The following function will make sure that the covariance matrix of stock returns is positive semidefinite\n",
    "# which is crucial for the optimizer to work\n",
    "function psd_clip(Σ; floor::Float64=1e-8)\n",
    "    vals, vecs= eigen(Symmetric(Σ))\n",
    "    vals.= max.(vals, floor)\n",
    "    Σ.= vecs*Diagonal(vals)*vecs'\n",
    "    Σ.= 0.5.*(Σ.+Σ')\n",
    "    return Σ\n",
    "end"
   ]
  },
  {
   "cell_type": "code",
   "execution_count": 5,
   "id": "172d4dfa",
   "metadata": {},
   "outputs": [
    {
     "data": {
      "text/plain": [
       "ew_stats (generic function with 1 method)"
      ]
     },
     "execution_count": 5,
     "metadata": {},
     "output_type": "execute_result"
    }
   ],
   "source": [
    "# this function calculates the exponentially weighted mean and covariance of daily percent stock returns,\n",
    "# putting a higher weight on more recent data\n",
    "function ew_stats(R::Matrix{Float64}, t::Int; λ::Float64, ridge::Float64=1e-8, floor::Float64=1e-8, shrink::Float64=0.10)\n",
    "    X = R[1:t, :]\n",
    "    n = size(X,2)\n",
    "    Lw = size(X,1)\n",
    "    pow = λ.^(Lw .-(1:Lw))\n",
    "    w = (1-λ).*pow\n",
    "    w./= sum(w)\n",
    "    μ = vec(X'*w)\n",
    "    D = X.-(ones(Lw)*permutedims(μ))\n",
    "    Σ = D'*(D.*w)\n",
    "    Σ.= 0.5.*(Σ.+Σ')\n",
    "    if shrink > 0\n",
    "        z = tr(Σ)/n\n",
    "        @inbounds for i in 1:n\n",
    "            Σ[i,i] = (1-shrink)*Σ[i,i]+shrink*z\n",
    "        end\n",
    "        @inbounds for j in 1:n, i in 1:n\n",
    "            if i!=j\n",
    "                Σ[i,j] = (1-shrink)*Σ[i,j]\n",
    "            end\n",
    "        end\n",
    "    end\n",
    "    if ridge > 0\n",
    "        @inbounds for i in 1:n\n",
    "            Σ[i,i] += ridge\n",
    "        end\n",
    "    end\n",
    "    vals, vecs = eigen(Symmetric(Σ))\n",
    "    vals.= max.(vals, floor)\n",
    "    Σ.= vecs*Diagonal(vals)*vecs'\n",
    "    Σ.= 0.5 .* (Σ.+Σ')\n",
    "    return μ, Σ\n",
    "end"
   ]
  },
  {
   "cell_type": "code",
   "execution_count": 6,
   "id": "ae30f96c",
   "metadata": {},
   "outputs": [
    {
     "data": {
      "text/plain": [
       "simulate_horizon_returns (generic function with 1 method)"
      ]
     },
     "execution_count": 6,
     "metadata": {},
     "output_type": "execute_result"
    }
   ],
   "source": [
    "# stochastic simulation of daily percentage returns\n",
    "function simulate_horizon_returns(μ::AbstractVector{<:Real}, Σ::AbstractMatrix{<:Real}; H::Int, S::Int)\n",
    "    n = length(μ)\n",
    "    σ2 = diag(Σ)\n",
    "    μ_log = μ.- 0.5.*σ2\n",
    "    L = cholesky(Symmetric(Σ), check=false).L\n",
    "\n",
    "    XH = zeros(Float64, n, S)\n",
    "    for _ in 1:H\n",
    "        Z  = randn(n, S)\n",
    "        Xd = μ_log .+ L * Z\n",
    "        XH.+= Xd\n",
    "    end\n",
    "    Rhor = exp.(XH) .- 1.0\n",
    "    return Rhor\n",
    "end"
   ]
  },
  {
   "cell_type": "code",
   "execution_count": 7,
   "id": "22991bf2",
   "metadata": {},
   "outputs": [
    {
     "data": {
      "text/plain": [
       "optimize_cvar (generic function with 1 method)"
      ]
     },
     "execution_count": 7,
     "metadata": {},
     "output_type": "execute_result"
    }
   ],
   "source": [
    "# Rockafellar–Uryasev CVaR optimization with turnover & caps\n",
    "function optimize_cvar(Rhor::AbstractMatrix{<:Real}, μH::AbstractVector{<:Real}, wprev::AbstractVector{<:Real};\n",
    "                       alpha::Float64, ret_weight::Float64, c::Float64,\n",
    "                       long_cap::Float64, time_limit::Float64)\n",
    "    n, S = size(Rhor)\n",
    "    lower = zeros(n)\n",
    "    upper = long_cap.*ones(n)\n",
    "    model = Model(HiGHS.Optimizer); set_silent(model)\n",
    "    set_optimizer_attribute(model, \"time_limit\", time_limit)\n",
    "\n",
    "    @variable(model, lower[i] <= w[i=1:n] <= upper[i])\n",
    "    @variable(model, s[1:n] >= 0.0) # |w - wprev|\n",
    "    @variable(model, q) # Free variable for CVaR optimization\n",
    "    @variable(model, z[1:S] >= 0.0) # tail slacks\n",
    "    @constraint(model, sum(w) == 1.0)\n",
    "    @constraint(model, [i=1:n], s[i]>= w[i]-wprev[i])\n",
    "    @constraint(model, [i=1:n], s[i]>= wprev[i]-w[i])  # these double contrains ensure that s = |w - wprev|\n",
    "    for sidx in 1:S\n",
    "        @constraint(model, z[sidx]>= -dot(Rhor[:,sidx],w)-q)\n",
    "    end\n",
    "    inv_tail = 1.0/((1-alpha)*S)\n",
    "    @objective(model, Min, q +(inv_tail*sum(z))-(ret_weight*dot(μH, w))+(c*sum(s)))\n",
    "    optimize!(model)\n",
    "    term = termination_status(model); pstat = primal_status(model)\n",
    "    if (term in (MOI.OPTIMAL, MOI.LOCALLY_SOLVED)) &&\n",
    "       (pstat in (MOI.FEASIBLE_POINT, MOI.NEARLY_FEASIBLE_POINT))\n",
    "        return value.(w), \"HiGHS_\" * string(term)\n",
    "    else\n",
    "        return copy(wprev), \"FALLBACK_\" * string(term)\n",
    "    end\n",
    "end"
   ]
  },
  {
   "cell_type": "code",
   "execution_count": 8,
   "id": "3cba8e0c",
   "metadata": {},
   "outputs": [
    {
     "data": {
      "text/plain": [
       "rebalance_monthdays (generic function with 1 method)"
      ]
     },
     "execution_count": 8,
     "metadata": {},
     "output_type": "execute_result"
    }
   ],
   "source": [
    "function rebalance_monthdays(mode::Symbol)\n",
    "    if mode == :quarterly\n",
    "        return [(7, 1), (10, 1), (1, 1), (4, 1)]\n",
    "    elseif mode == :monthly\n",
    "        return [(m, 1) for m in 1:12]\n",
    "    else\n",
    "        error(\"Please use monthly or quarterly rebalance\")\n",
    "    end\n",
    "end"
   ]
  },
  {
   "cell_type": "code",
   "execution_count": 9,
   "id": "4b19400b",
   "metadata": {},
   "outputs": [
    {
     "data": {
      "text/plain": [
       "make_rebalance_dates (generic function with 1 method)"
      ]
     },
     "execution_count": 9,
     "metadata": {},
     "output_type": "execute_result"
    }
   ],
   "source": [
    "function make_rebalance_dates(dates::Vector{Date}; mode::Symbol=:quarterly, start_at::Date=dates[1])\n",
    "    md = rebalance_monthdays(mode)\n",
    "    y0, y1 = year(start_at), year(dates[end])\n",
    "    rebalances = Date[]\n",
    "    for y in y0:y1\n",
    "        for (m,d) in md\n",
    "            if Dates.daysinmonth(Date(y, max(1,min(12,m)),1)) >= d\n",
    "                push!(rebalances, Date(y,m,d))\n",
    "            end\n",
    "        end\n",
    "    end\n",
    "    sort!(rebalances)\n",
    "    filter!(a -> a >= start_at && a <= dates[end], rebalances)\n",
    "    return rebalances\n",
    "end"
   ]
  },
  {
   "cell_type": "code",
   "execution_count": 10,
   "id": "4f68a44c",
   "metadata": {},
   "outputs": [
    {
     "data": {
      "text/plain": [
       "map_to_trading (generic function with 1 method)"
      ]
     },
     "execution_count": 10,
     "metadata": {},
     "output_type": "execute_result"
    }
   ],
   "source": [
    "function map_to_trading(dates::Vector{Date}, rebalances::Vector{Date})\n",
    "    idxs = Int[]\n",
    "    for a in rebalances\n",
    "        k = searchsortedfirst(dates, a)\n",
    "        if k <= length(dates); push!(idxs, k); end\n",
    "    end\n",
    "    unique!(idxs)\n",
    "    return idxs\n",
    "end"
   ]
  },
  {
   "cell_type": "code",
   "execution_count": 11,
   "id": "b4387e58",
   "metadata": {},
   "outputs": [
    {
     "data": {
      "text/plain": [
       "graph_quantiles! (generic function with 1 method)"
      ]
     },
     "execution_count": 11,
     "metadata": {},
     "output_type": "execute_result"
    }
   ],
   "source": [
    "function graph_quantiles!(graph_df::DataFrame, μ::Vector{Float64}, Σ::Matrix{Float64}, w::Vector{Float64};\n",
    "                        dates::Vector{Date}, t::Int, H::Int, S::Int, PV0::Float64)\n",
    "    n = length(w)\n",
    "    σ2 = diag(Σ)\n",
    "    μ_log = μ .- 0.5 .*σ2\n",
    "    L = cholesky(Symmetric(Σ), check=false).L\n",
    "    PV = fill(PV0, S)\n",
    "    Y  = zeros(Float64, S)\n",
    "\n",
    "    function push_row!(h::Int)\n",
    "        q  = quantile(PV, [0.05, 0.25, 0.50, 0.75, 0.95])\n",
    "        μY = mean(Y); σY = std(Y)\n",
    "        μ1lo = PV0 * exp(μY - 1σY); μ1hi = PV0 * exp(μY + 1σY)\n",
    "        μ2lo = PV0 * exp(μY - 2σY); μ2hi = PV0 * exp(μY + 2σY)\n",
    "        μ3lo = PV0 * exp(μY - 3σY); μ3hi = PV0 * exp(μY + 3σY)\n",
    "        push!(graph_df, (\n",
    "            rebalance_date = dates[t],\n",
    "            h = h,\n",
    "            date = dates[min(t+h, length(dates))],\n",
    "            pv_rebalance= PV0,\n",
    "            pv_q05=q[1], pv_q25=q[2], pv_q50=q[3], pv_q75=q[4], pv_q95=q[5],\n",
    "            pv_mu_1s_lo=μ1lo, pv_mu_1s_hi=μ1hi,\n",
    "            pv_mu_2s_lo=μ2lo, pv_mu_2s_hi=μ2hi,\n",
    "            pv_mu_3s_lo=μ3lo, pv_mu_3s_hi=μ3hi,\n",
    "        ))\n",
    "    end\n",
    "\n",
    "    push_row!(0)\n",
    "    for _h in 1:H\n",
    "        Z = randn(n, S)\n",
    "        Xd = μ_log .+ L*Z\n",
    "        Rd = exp.(Xd) .-1.0\n",
    "        r = vec(w'*Rd)\n",
    "        PV .*= (1 .+r)\n",
    "        Y .+= log.(1 .+r)\n",
    "        push_row!(_h)\n",
    "    end\n",
    "end"
   ]
  },
  {
   "cell_type": "code",
   "execution_count": 12,
   "id": "e7430725",
   "metadata": {},
   "outputs": [
    {
     "data": {
      "text/plain": [
       "300.0"
      ]
     },
     "execution_count": 12,
     "metadata": {},
     "output_type": "execute_result"
    }
   ],
   "source": [
    "# Parameters\n",
    "invest_start_date = Date(\"2024-07-01\") # date of portfolio creation\n",
    "rebalance_mode= :quarterly # :monthly or :quarterly\n",
    "\n",
    "# EWMA parameters\n",
    "half_life = 60.0\n",
    "λ_ew = 2.0^(-1.0 / half_life)\n",
    "ridge_gamma = 1e-8\n",
    "eig_floor = 1e-8\n",
    "delta_shrink = 0.10\n",
    "\n",
    "# Risk/return + trade costs\n",
    "alpha = 0.95  # CVaR tail level\n",
    "ret_weight  = 1.0  # return reward\n",
    "c_turnover  = 0.005 # L1 turnover penalty\n",
    "exec_cost_bps  = 10.0 # per $ traded\n",
    "exec_cost_rate = exec_cost_bps / 10_000\n",
    "\n",
    "long_cap    = 0.20 # maximum proportion of portfolio allowed in a single stock. NO SHORTING ALLOWED IN THE MODEL\n",
    "\n",
    "# Simulation + solver\n",
    "num_of_scenarios = 2000 # used for optimizer & graphing\n",
    "time_limit_s = 300.0 # time limit in seconds to solve one rebalance"
   ]
  },
  {
   "cell_type": "code",
   "execution_count": 13,
   "id": "a35e7ffb",
   "metadata": {},
   "outputs": [
    {
     "data": {
      "text/plain": [
       "6-element Vector{Int64}:\n",
       "  63\n",
       " 127\n",
       " 191\n",
       " 251\n",
       " 313\n",
       " 357"
      ]
     },
     "execution_count": 13,
     "metadata": {},
     "output_type": "execute_result"
    }
   ],
   "source": [
    "start_idx = findfirst(dates .>= invest_start_date)\n",
    "@assert start_idx !== nothing \"No data on/after chosen portfolio creation date\"\n",
    "\n",
    "rebalance_cals  = make_rebalance_dates(dates; mode=rebalance_mode, start_at=invest_start_date)\n",
    "rebalance_idxs  = map_to_trading(dates, rebalance_cals)\n",
    "idxs = vcat(rebalance_idxs, T) # rebalance idx's plus last idx"
   ]
  },
  {
   "cell_type": "code",
   "execution_count": 14,
   "id": "0bf1be95",
   "metadata": {},
   "outputs": [
    {
     "data": {
      "text/plain": [
       "5-element Vector{Date}:\n",
       " 2024-07-01\n",
       " 2024-10-01\n",
       " 2025-01-01\n",
       " 2025-04-01\n",
       " 2025-07-01"
      ]
     },
     "execution_count": 14,
     "metadata": {},
     "output_type": "execute_result"
    }
   ],
   "source": [
    "rebalance_cals"
   ]
  },
  {
   "cell_type": "code",
   "execution_count": 15,
   "id": "3736d399",
   "metadata": {},
   "outputs": [
    {
     "data": {
      "text/plain": [
       "5-element Vector{Int64}:\n",
       "  63\n",
       " 127\n",
       " 191\n",
       " 251\n",
       " 313"
      ]
     },
     "execution_count": 15,
     "metadata": {},
     "output_type": "execute_result"
    }
   ],
   "source": [
    "rebalance_idxs"
   ]
  },
  {
   "cell_type": "code",
   "execution_count": 16,
   "id": "ffeab6a5",
   "metadata": {},
   "outputs": [
    {
     "data": {
      "text/plain": [
       "63"
      ]
     },
     "execution_count": 16,
     "metadata": {},
     "output_type": "execute_result"
    }
   ],
   "source": [
    "w_prev = fill(1.0/n, n)\n",
    "port_val = 1.0 # starting portfolio value set to 1.0\n",
    "last_idx = start_idx"
   ]
  },
  {
   "cell_type": "code",
   "execution_count": 17,
   "id": "868a355b",
   "metadata": {},
   "outputs": [
    {
     "data": {
      "text/plain": [
       "1-element Vector{Float64}:\n",
       " 1.0"
      ]
     },
     "execution_count": 17,
     "metadata": {},
     "output_type": "execute_result"
    }
   ],
   "source": [
    "# daily portfolio series (for plots)\n",
    "daily_dates = Date[]\n",
    "daily_pv    = Float64[]\n",
    "push!(daily_dates, dates[last_idx]); push!(daily_pv, port_val)"
   ]
  },
  {
   "cell_type": "code",
   "execution_count": 18,
   "id": "45eb0688",
   "metadata": {},
   "outputs": [
    {
     "data": {
      "text/plain": [
       "Tuple{Float64, Float64, Float64}[]"
      ]
     },
     "execution_count": 18,
     "metadata": {},
     "output_type": "execute_result"
    }
   ],
   "source": [
    "vals = Float64[]; reb_dates = Date[]; turnover_costs = Float64[]\n",
    "est_h_ret = Float64[]; est_h_std = Float64[]\n",
    "statuses = String[]; weights_snap = Vector{Vector{Float64}}()\n",
    "top3_tickers = String[]; top3_weights = Vector{Tuple{Float64,Float64,Float64}}()"
   ]
  },
  {
   "cell_type": "code",
   "execution_count": 19,
   "id": "3678727d",
   "metadata": {},
   "outputs": [
    {
     "data": {
      "text/html": [
       "<div><div style = \"float: left;\"><span>0×15 DataFrame</span></div><div style = \"clear: both;\"></div></div><div class = \"data-frame\" style = \"overflow-x: scroll;\"><table class = \"data-frame\" style = \"margin-bottom: 6px;\"><thead><tr class = \"header\"><th class = \"rowNumber\" style = \"font-weight: bold; text-align: right;\">Row</th><th style = \"text-align: left;\">rebalance_date</th><th style = \"text-align: left;\">h</th><th style = \"text-align: left;\">date</th><th style = \"text-align: left;\">pv_rebalance</th><th style = \"text-align: left;\">pv_q05</th><th style = \"text-align: left;\">pv_q25</th><th style = \"text-align: left;\">pv_q50</th><th style = \"text-align: left;\">pv_q75</th><th style = \"text-align: left;\">pv_q95</th><th style = \"text-align: left;\">pv_mu_1s_lo</th><th style = \"text-align: left;\">pv_mu_1s_hi</th><th style = \"text-align: left;\">pv_mu_2s_lo</th><th style = \"text-align: left;\">pv_mu_2s_hi</th><th style = \"text-align: left;\">pv_mu_3s_lo</th><th style = \"text-align: left;\">pv_mu_3s_hi</th></tr><tr class = \"subheader headerLastRow\"><th class = \"rowNumber\" style = \"font-weight: bold; text-align: right;\"></th><th title = \"Date\" style = \"text-align: left;\">Date</th><th title = \"Int64\" style = \"text-align: left;\">Int64</th><th title = \"Date\" style = \"text-align: left;\">Date</th><th title = \"Float64\" style = \"text-align: left;\">Float64</th><th title = \"Float64\" style = \"text-align: left;\">Float64</th><th title = \"Float64\" style = \"text-align: left;\">Float64</th><th title = \"Float64\" style = \"text-align: left;\">Float64</th><th title = \"Float64\" style = \"text-align: left;\">Float64</th><th title = \"Float64\" style = \"text-align: left;\">Float64</th><th title = \"Float64\" style = \"text-align: left;\">Float64</th><th title = \"Float64\" style = \"text-align: left;\">Float64</th><th title = \"Float64\" style = \"text-align: left;\">Float64</th><th title = \"Float64\" style = \"text-align: left;\">Float64</th><th title = \"Float64\" style = \"text-align: left;\">Float64</th><th title = \"Float64\" style = \"text-align: left;\">Float64</th></tr></thead><tbody></tbody></table></div>"
      ],
      "text/latex": [
       "\\begin{tabular}{r|cccccccccc}\n",
       "\t& rebalance\\_date & h & date & pv\\_rebalance & pv\\_q05 & pv\\_q25 & pv\\_q50 & pv\\_q75 & pv\\_q95 & \\\\\n",
       "\t\\hline\n",
       "\t& Date & Int64 & Date & Float64 & Float64 & Float64 & Float64 & Float64 & Float64 & \\\\\n",
       "\t\\hline\n",
       "\\end{tabular}\n"
      ],
      "text/plain": [
       "\u001b[1m0×15 DataFrame\u001b[0m\n",
       "\u001b[1m Row \u001b[0m│\u001b[1m rebalance_date \u001b[0m\u001b[1m h     \u001b[0m\u001b[1m date \u001b[0m\u001b[1m pv_rebalance \u001b[0m\u001b[1m pv_q05  \u001b[0m\u001b[1m pv_q25  \u001b[0m\u001b[1m pv_q50  \u001b[0m\u001b[1m p\u001b[0m ⋯\n",
       "     │\u001b[90m Date           \u001b[0m\u001b[90m Int64 \u001b[0m\u001b[90m Date \u001b[0m\u001b[90m Float64      \u001b[0m\u001b[90m Float64 \u001b[0m\u001b[90m Float64 \u001b[0m\u001b[90m Float64 \u001b[0m\u001b[90m F\u001b[0m ⋯\n",
       "─────┴──────────────────────────────────────────────────────────────────────────\n",
       "\u001b[36m                                                               8 columns omitted\u001b[0m"
      ]
     },
     "execution_count": 19,
     "metadata": {},
     "output_type": "execute_result"
    }
   ],
   "source": [
    "graph_df = DataFrame(\n",
    "    rebalance_date = Date[], h = Int[], date = Date[], pv_rebalance = Float64[],\n",
    "    pv_q05=Float64[], pv_q25=Float64[], pv_q50=Float64[], pv_q75=Float64[], pv_q95=Float64[],\n",
    "    pv_mu_1s_lo=Float64[], pv_mu_1s_hi=Float64[],\n",
    "    pv_mu_2s_lo=Float64[], pv_mu_2s_hi=Float64[],\n",
    "    pv_mu_3s_lo=Float64[], pv_mu_3s_hi=Float64[],\n",
    ")"
   ]
  },
  {
   "cell_type": "code",
   "execution_count": 20,
   "id": "dc806713",
   "metadata": {},
   "outputs": [
    {
     "name": "stdout",
     "output_type": "stream",
     "text": [
      "Reb 2024-07-01 (start)\n",
      "Reb 2024-07-01 status=HiGHS_OPTIMAL μ≈32.07% over horizon σ≈12.88% over horizon turnover=167.32% PV=0.9983\n",
      "Reb 2024-10-01 (start)\n",
      "Reb 2024-10-01 status=HiGHS_OPTIMAL μ≈24.69% over horizon σ≈12.57% over horizon turnover=178.75% PV=1.0263\n",
      "Reb 2025-01-02 (start)\n",
      "Reb 2025-01-02 status=HiGHS_OPTIMAL μ≈34.84% over horizon σ≈22.23% over horizon turnover=99.44% PV=1.237\n",
      "Reb 2025-04-01 (start)\n",
      "Reb 2025-04-01 status=HiGHS_OPTIMAL μ≈14.9% over horizon σ≈12.25% over horizon turnover=160.0% PV=1.0853\n",
      "Reb 2025-07-01 (start)\n",
      "Reb 2025-07-01 status=HiGHS_OPTIMAL μ≈17.16% over horizon σ≈15.63% over horizon turnover=102.94% PV=1.2223\n"
     ]
    }
   ],
   "source": [
    "for (j, t) in enumerate(idxs)\n",
    "    # calculating P&L of previous weights up to this date t\n",
    "    if t > last_idx\n",
    "        seg = R[(last_idx+1):t, :]'\n",
    "        seg_port = vec(w_prev' * seg)\n",
    "        for k in 1:length(seg_port)\n",
    "            port_val *= (1 + seg_port[k])\n",
    "            push!(daily_dates, dates[last_idx + k])\n",
    "            push!(daily_pv, port_val)\n",
    "        end\n",
    "    end\n",
    "\n",
    "    # no rebalance on last day unless its a rebalance day\n",
    "    is_final = (j == length(idxs))\n",
    "    if is_final\n",
    "        break\n",
    "    end\n",
    "\n",
    "    println(\"Reb \", dates[t], \" (start)\")\n",
    "\n",
    "    # Quarter EWMA stats ending at this rebalance date\n",
    "    μ_t, Σ_t = ew_stats(R, t; λ=λ_ew, ridge=ridge_gamma, floor=eig_floor, shrink=delta_shrink)\n",
    "\n",
    "    # Horizon to next rebalance (or today if last real rebalance)\n",
    "    H_t = max(1, idxs[j+1]-t)\n",
    "\n",
    "    # Aggregate asset horizon returns via daily-path stochastic simulation\n",
    "    Rhor = simulate_horizon_returns(μ_t, Σ_t; H=H_t, S=num_of_scenarios)\n",
    "    μH = vec(mean(Rhor, dims=2))\n",
    "\n",
    "    # Optimize into new weights\n",
    "    w_t, status = optimize_cvar(Rhor, μH, w_prev;\n",
    "                                alpha=alpha, ret_weight=ret_weight, c=c_turnover,\n",
    "                                long_cap=long_cap, time_limit=time_limit_s)\n",
    "\n",
    "    # Execution cost to trade today into w_t — reflect in both PV and today's daily value\n",
    "    turnover = sum(abs.(w_t .- w_prev))\n",
    "    cost = exec_cost_rate * turnover * port_val\n",
    "    port_val -= cost\n",
    "    daily_pv[end] = port_val            # same day reflects execution cost\n",
    "\n",
    "    # Horizon stats (upto end of quarter)\n",
    "    Rhor_c = Rhor .-μH\n",
    "    ΣH = (Rhor_c *Rhor_c')/(size(Rhor,2)-1)\n",
    "    ΣH .= 0.5 .*(ΣH.+ΣH'); psd_clip(ΣH; floor=eig_floor)\n",
    "    μp = dot(μH, w_t)\n",
    "    σp = sqrt(dot(w_t, ΣH * w_t))\n",
    "\n",
    "    # graph rows anchored at current wealth\n",
    "    graph_quantiles!(graph_df, μ_t, Σ_t, w_t; dates=dates, t=t, H=H_t, S= num_of_scenarios, PV0=port_val)\n",
    "\n",
    "    # Log row (real rebalance only)\n",
    "    push!(vals, port_val); push!(reb_dates, dates[t])\n",
    "    push!(turnover_costs, cost)\n",
    "    push!(est_h_ret, μp); push!(est_h_std, σp)\n",
    "    push!(statuses, status); push!(weights_snap, copy(w_t))\n",
    "\n",
    "    ord = sortperm(w_t, rev=true); tops = ord[1:3]\n",
    "    push!(top3_tickers, string(join(tickers[tops], \",\")))\n",
    "    push!(top3_weights, (w_t[tops[1]], w_t[tops[2]], w_t[tops[3]]))\n",
    "\n",
    "    println(\"Reb \", dates[t], \" status=\", status,\n",
    "            \" μ≈\", round(100*μp; digits=2), \"% over horizon\",\n",
    "            \" σ≈\", round(100*σp; digits=2), \"% over horizon\",\n",
    "            \" turnover=\", round(100*turnover; digits=2), \"% PV=\", round(port_val; digits=4))\n",
    "\n",
    "    w_prev = w_t; last_idx = t\n",
    "end"
   ]
  },
  {
   "cell_type": "code",
   "execution_count": 21,
   "id": "13ec6182",
   "metadata": {},
   "outputs": [
    {
     "data": {
      "text/plain": [
       "\"out\\\\multi_period_rebalance_summary.csv\""
      ]
     },
     "execution_count": 21,
     "metadata": {},
     "output_type": "execute_result"
    }
   ],
   "source": [
    "# writing outputs to a csv\n",
    "summary_df = DataFrame(\n",
    "    Date=reb_dates,\n",
    "    portfolio_value=vals,\n",
    "    est_horizon_ret=est_h_ret,\n",
    "    est_horizon_std=est_h_std,\n",
    "    turnover_cost=turnover_costs,\n",
    "    status=statuses,\n",
    "    top3=top3_tickers,\n",
    "    top3_w1=[tw[1] for tw in top3_weights],\n",
    "    top3_w2=[tw[2] for tw in top3_weights],\n",
    "    top3_w3=[tw[3] for tw in top3_weights],\n",
    ")\n",
    "CSV.write(joinpath(\"out\", \"multi_period_rebalance_summary.csv\"), summary_df)"
   ]
  },
  {
   "cell_type": "code",
   "execution_count": 22,
   "id": "e9c04b0d",
   "metadata": {},
   "outputs": [
    {
     "data": {
      "text/html": [
       "<div><div style = \"float: left;\"><span>5×10 DataFrame</span></div><div style = \"clear: both;\"></div></div><div class = \"data-frame\" style = \"overflow-x: scroll;\"><table class = \"data-frame\" style = \"margin-bottom: 6px;\"><thead><tr class = \"header\"><th class = \"rowNumber\" style = \"font-weight: bold; text-align: right;\">Row</th><th style = \"text-align: left;\">Date</th><th style = \"text-align: left;\">portfolio_value</th><th style = \"text-align: left;\">est_horizon_ret</th><th style = \"text-align: left;\">est_horizon_std</th><th style = \"text-align: left;\">turnover_cost</th><th style = \"text-align: left;\">status</th><th style = \"text-align: left;\">top3</th><th style = \"text-align: left;\">top3_w1</th><th style = \"text-align: left;\">top3_w2</th><th style = \"text-align: left;\">top3_w3</th></tr><tr class = \"subheader headerLastRow\"><th class = \"rowNumber\" style = \"font-weight: bold; text-align: right;\"></th><th title = \"Date\" style = \"text-align: left;\">Date</th><th title = \"Float64\" style = \"text-align: left;\">Float64</th><th title = \"Float64\" style = \"text-align: left;\">Float64</th><th title = \"Float64\" style = \"text-align: left;\">Float64</th><th title = \"Float64\" style = \"text-align: left;\">Float64</th><th title = \"String\" style = \"text-align: left;\">String</th><th title = \"String\" style = \"text-align: left;\">String</th><th title = \"Float64\" style = \"text-align: left;\">Float64</th><th title = \"Float64\" style = \"text-align: left;\">Float64</th><th title = \"Float64\" style = \"text-align: left;\">Float64</th></tr></thead><tbody><tr><td class = \"rowNumber\" style = \"font-weight: bold; text-align: right;\">1</td><td style = \"text-align: left;\">2024-07-01</td><td style = \"text-align: right;\">0.998327</td><td style = \"text-align: right;\">0.320705</td><td style = \"text-align: right;\">0.128774</td><td style = \"text-align: right;\">0.00167318</td><td style = \"text-align: left;\">HiGHS_OPTIMAL</td><td style = \"text-align: left;\">AAPL,NVDA,LLY</td><td style = \"text-align: right;\">0.2</td><td style = \"text-align: right;\">0.2</td><td style = \"text-align: right;\">0.2</td></tr><tr><td class = \"rowNumber\" style = \"font-weight: bold; text-align: right;\">2</td><td style = \"text-align: left;\">2024-10-01</td><td style = \"text-align: right;\">1.02629</td><td style = \"text-align: right;\">0.246896</td><td style = \"text-align: right;\">0.125732</td><td style = \"text-align: right;\">0.00183783</td><td style = \"text-align: left;\">HiGHS_OPTIMAL</td><td style = \"text-align: left;\">WMT,NEE,PLTR</td><td style = \"text-align: right;\">0.2</td><td style = \"text-align: right;\">0.2</td><td style = \"text-align: right;\">0.2</td></tr><tr><td class = \"rowNumber\" style = \"font-weight: bold; text-align: right;\">3</td><td style = \"text-align: left;\">2025-01-02</td><td style = \"text-align: right;\">1.23696</td><td style = \"text-align: right;\">0.348395</td><td style = \"text-align: right;\">0.222318</td><td style = \"text-align: right;\">0.00123121</td><td style = \"text-align: left;\">HiGHS_OPTIMAL</td><td style = \"text-align: left;\">AVGO,WMT,TSLA</td><td style = \"text-align: right;\">0.2</td><td style = \"text-align: right;\">0.2</td><td style = \"text-align: right;\">0.2</td></tr><tr><td class = \"rowNumber\" style = \"font-weight: bold; text-align: right;\">4</td><td style = \"text-align: left;\">2025-04-01</td><td style = \"text-align: right;\">1.08528</td><td style = \"text-align: right;\">0.149011</td><td style = \"text-align: right;\">0.122456</td><td style = \"text-align: right;\">0.00173923</td><td style = \"text-align: left;\">HiGHS_OPTIMAL</td><td style = \"text-align: left;\">BRK-B,KO,ABT</td><td style = \"text-align: right;\">0.2</td><td style = \"text-align: right;\">0.2</td><td style = \"text-align: right;\">0.2</td></tr><tr><td class = \"rowNumber\" style = \"font-weight: bold; text-align: right;\">5</td><td style = \"text-align: left;\">2025-07-01</td><td style = \"text-align: right;\">1.22228</td><td style = \"text-align: right;\">0.171592</td><td style = \"text-align: right;\">0.156305</td><td style = \"text-align: right;\">0.00125947</td><td style = \"text-align: left;\">HiGHS_OPTIMAL</td><td style = \"text-align: left;\">ORCL,IBM,PLTR</td><td style = \"text-align: right;\">0.2</td><td style = \"text-align: right;\">0.2</td><td style = \"text-align: right;\">0.2</td></tr></tbody></table></div>"
      ],
      "text/latex": [
       "\\begin{tabular}{r|ccccccc}\n",
       "\t& Date & portfolio\\_value & est\\_horizon\\_ret & est\\_horizon\\_std & turnover\\_cost & status & \\\\\n",
       "\t\\hline\n",
       "\t& Date & Float64 & Float64 & Float64 & Float64 & String & \\\\\n",
       "\t\\hline\n",
       "\t1 & 2024-07-01 & 0.998327 & 0.320705 & 0.128774 & 0.00167318 & HiGHS\\_OPTIMAL & $\\dots$ \\\\\n",
       "\t2 & 2024-10-01 & 1.02629 & 0.246896 & 0.125732 & 0.00183783 & HiGHS\\_OPTIMAL & $\\dots$ \\\\\n",
       "\t3 & 2025-01-02 & 1.23696 & 0.348395 & 0.222318 & 0.00123121 & HiGHS\\_OPTIMAL & $\\dots$ \\\\\n",
       "\t4 & 2025-04-01 & 1.08528 & 0.149011 & 0.122456 & 0.00173923 & HiGHS\\_OPTIMAL & $\\dots$ \\\\\n",
       "\t5 & 2025-07-01 & 1.22228 & 0.171592 & 0.156305 & 0.00125947 & HiGHS\\_OPTIMAL & $\\dots$ \\\\\n",
       "\\end{tabular}\n"
      ],
      "text/plain": [
       "\u001b[1m5×10 DataFrame\u001b[0m\n",
       "\u001b[1m Row \u001b[0m│\u001b[1m Date       \u001b[0m\u001b[1m portfolio_value \u001b[0m\u001b[1m est_horizon_ret \u001b[0m\u001b[1m est_horizon_std \u001b[0m\u001b[1m turnover\u001b[0m ⋯\n",
       "     │\u001b[90m Date       \u001b[0m\u001b[90m Float64         \u001b[0m\u001b[90m Float64         \u001b[0m\u001b[90m Float64         \u001b[0m\u001b[90m Float64 \u001b[0m ⋯\n",
       "─────┼──────────────────────────────────────────────────────────────────────────\n",
       "   1 │ 2024-07-01         0.998327         0.320705         0.128774     0.001 ⋯\n",
       "   2 │ 2024-10-01         1.02629          0.246896         0.125732     0.001\n",
       "   3 │ 2025-01-02         1.23696          0.348395         0.222318     0.001\n",
       "   4 │ 2025-04-01         1.08528          0.149011         0.122456     0.001\n",
       "   5 │ 2025-07-01         1.22228          0.171592         0.156305     0.001 ⋯\n",
       "\u001b[36m                                                               6 columns omitted\u001b[0m"
      ]
     },
     "execution_count": 22,
     "metadata": {},
     "output_type": "execute_result"
    }
   ],
   "source": [
    "summary_df"
   ]
  },
  {
   "cell_type": "code",
   "execution_count": 23,
   "id": "871277c0",
   "metadata": {},
   "outputs": [
    {
     "data": {
      "text/plain": [
       "\"out\\\\multi_period_weights.csv\""
      ]
     },
     "execution_count": 23,
     "metadata": {},
     "output_type": "execute_result"
    }
   ],
   "source": [
    "weights_df = DataFrame(Date=reb_dates)\n",
    "for j in 1:n\n",
    "    weights_df[!, Symbol(tickers[j])] = [w[j] for w in weights_snap]\n",
    "end\n",
    "CSV.write(joinpath(\"out\", \"multi_period_weights.csv\"), weights_df)"
   ]
  },
  {
   "cell_type": "code",
   "execution_count": 24,
   "id": "30aa018f",
   "metadata": {},
   "outputs": [
    {
     "data": {
      "text/html": [
       "<div><div style = \"float: left;\"><span>5×51 DataFrame</span></div><div style = \"clear: both;\"></div></div><div class = \"data-frame\" style = \"overflow-x: scroll;\"><table class = \"data-frame\" style = \"margin-bottom: 6px;\"><thead><tr class = \"header\"><th class = \"rowNumber\" style = \"font-weight: bold; text-align: right;\">Row</th><th style = \"text-align: left;\">Date</th><th style = \"text-align: left;\">AAPL</th><th style = \"text-align: left;\">MSFT</th><th style = \"text-align: left;\">GOOGL</th><th style = \"text-align: left;\">AMZN</th><th style = \"text-align: left;\">META</th><th style = \"text-align: left;\">NVDA</th><th style = \"text-align: left;\">AVGO</th><th style = \"text-align: left;\">ORCL</th><th style = \"text-align: left;\">IBM</th><th style = \"text-align: left;\">SAP</th><th style = \"text-align: left;\">JPM</th><th style = \"text-align: left;\">BAC</th><th style = \"text-align: left;\">WFC</th><th style = \"text-align: left;\">MS</th><th style = \"text-align: left;\">GS</th><th style = \"text-align: left;\">BLK</th><th style = \"text-align: left;\">V</th><th style = \"text-align: left;\">MA</th><th style = \"text-align: left;\">BRK-B</th><th style = \"text-align: left;\">KO</th><th style = \"text-align: left;\">PG</th><th style = \"text-align: left;\">PEP</th><th style = \"text-align: left;\">WMT</th><th style = \"text-align: left;\">COST</th><th style = \"text-align: left;\">HD</th><th style = \"text-align: left;\">MCD</th><th style = \"text-align: left;\">DIS</th><th style = \"text-align: left;\">NKE</th><th style = \"text-align: left;\">GE</th><th style = \"text-align: left;\">UNH</th><th style = \"text-align: left;\">LLY</th><th style = \"text-align: left;\">PFE</th><th style = \"text-align: left;\">MRK</th><th style = \"text-align: left;\">ABT</th><th style = \"text-align: left;\">TMO</th><th style = \"text-align: left;\">AMGN</th><th style = \"text-align: left;\">ADBE</th><th style = \"text-align: left;\">CRM</th><th style = \"text-align: left;\">NOW</th><th style = \"text-align: left;\">SNOW</th><th style = \"text-align: left;\">AMD</th><th style = \"text-align: left;\">TSM</th><th style = \"text-align: left;\">ASML</th><th style = \"text-align: left;\">AMAT</th><th style = \"text-align: left;\">TSLA</th><th style = \"text-align: left;\">FSLR</th><th style = \"text-align: left;\">ENPH</th><th style = \"text-align: left;\">NEE</th><th style = \"text-align: left;\">PLTR</th><th style = \"text-align: left;\">PANW</th></tr><tr class = \"subheader headerLastRow\"><th class = \"rowNumber\" style = \"font-weight: bold; text-align: right;\"></th><th title = \"Date\" style = \"text-align: left;\">Date</th><th title = \"Float64\" style = \"text-align: left;\">Float64</th><th title = \"Float64\" style = \"text-align: left;\">Float64</th><th title = \"Float64\" style = \"text-align: left;\">Float64</th><th title = \"Float64\" style = \"text-align: left;\">Float64</th><th title = \"Float64\" style = \"text-align: left;\">Float64</th><th title = \"Float64\" style = \"text-align: left;\">Float64</th><th title = \"Float64\" style = \"text-align: left;\">Float64</th><th title = \"Float64\" style = \"text-align: left;\">Float64</th><th title = \"Float64\" style = \"text-align: left;\">Float64</th><th title = \"Float64\" style = \"text-align: left;\">Float64</th><th title = \"Float64\" style = \"text-align: left;\">Float64</th><th title = \"Float64\" style = \"text-align: left;\">Float64</th><th title = \"Float64\" style = \"text-align: left;\">Float64</th><th title = \"Float64\" style = \"text-align: left;\">Float64</th><th title = \"Float64\" style = \"text-align: left;\">Float64</th><th title = \"Float64\" style = \"text-align: left;\">Float64</th><th title = \"Float64\" style = \"text-align: left;\">Float64</th><th title = \"Float64\" style = \"text-align: left;\">Float64</th><th title = \"Float64\" style = \"text-align: left;\">Float64</th><th title = \"Float64\" style = \"text-align: left;\">Float64</th><th title = \"Float64\" style = \"text-align: left;\">Float64</th><th title = \"Float64\" style = \"text-align: left;\">Float64</th><th title = \"Float64\" style = \"text-align: left;\">Float64</th><th title = \"Float64\" style = \"text-align: left;\">Float64</th><th title = \"Float64\" style = \"text-align: left;\">Float64</th><th title = \"Float64\" style = \"text-align: left;\">Float64</th><th title = \"Float64\" style = \"text-align: left;\">Float64</th><th title = \"Float64\" style = \"text-align: left;\">Float64</th><th title = \"Float64\" style = \"text-align: left;\">Float64</th><th title = \"Float64\" style = \"text-align: left;\">Float64</th><th title = \"Float64\" style = \"text-align: left;\">Float64</th><th title = \"Float64\" style = \"text-align: left;\">Float64</th><th title = \"Float64\" style = \"text-align: left;\">Float64</th><th title = \"Float64\" style = \"text-align: left;\">Float64</th><th title = \"Float64\" style = \"text-align: left;\">Float64</th><th title = \"Float64\" style = \"text-align: left;\">Float64</th><th title = \"Float64\" style = \"text-align: left;\">Float64</th><th title = \"Float64\" style = \"text-align: left;\">Float64</th><th title = \"Float64\" style = \"text-align: left;\">Float64</th><th title = \"Float64\" style = \"text-align: left;\">Float64</th><th title = \"Float64\" style = \"text-align: left;\">Float64</th><th title = \"Float64\" style = \"text-align: left;\">Float64</th><th title = \"Float64\" style = \"text-align: left;\">Float64</th><th title = \"Float64\" style = \"text-align: left;\">Float64</th><th title = \"Float64\" style = \"text-align: left;\">Float64</th><th title = \"Float64\" style = \"text-align: left;\">Float64</th><th title = \"Float64\" style = \"text-align: left;\">Float64</th><th title = \"Float64\" style = \"text-align: left;\">Float64</th><th title = \"Float64\" style = \"text-align: left;\">Float64</th><th title = \"Float64\" style = \"text-align: left;\">Float64</th></tr></thead><tbody><tr><td class = \"rowNumber\" style = \"font-weight: bold; text-align: right;\">1</td><td style = \"text-align: left;\">2024-07-01</td><td style = \"text-align: right;\">0.2</td><td style = \"text-align: right;\">0.0</td><td style = \"text-align: right;\">0.0</td><td style = \"text-align: right;\">0.0</td><td style = \"text-align: right;\">0.0</td><td style = \"text-align: right;\">0.2</td><td style = \"text-align: right;\">0.02</td><td style = \"text-align: right;\">0.00340957</td><td style = \"text-align: right;\">0.0</td><td style = \"text-align: right;\">0.0</td><td style = \"text-align: right;\">0.0</td><td style = \"text-align: right;\">0.0</td><td style = \"text-align: right;\">0.0</td><td style = \"text-align: right;\">0.0</td><td style = \"text-align: right;\">0.0</td><td style = \"text-align: right;\">0.0</td><td style = \"text-align: right;\">0.0</td><td style = \"text-align: right;\">0.0</td><td style = \"text-align: right;\">0.0</td><td style = \"text-align: right;\">0.0</td><td style = \"text-align: right;\">0.0</td><td style = \"text-align: right;\">0.0</td><td style = \"text-align: right;\">0.0</td><td style = \"text-align: right;\">0.0</td><td style = \"text-align: right;\">0.0</td><td style = \"text-align: right;\">0.0</td><td style = \"text-align: right;\">0.0</td><td style = \"text-align: right;\">0.0</td><td style = \"text-align: right;\">0.0</td><td style = \"text-align: right;\">0.0</td><td style = \"text-align: right;\">0.2</td><td style = \"text-align: right;\">0.0</td><td style = \"text-align: right;\">0.0</td><td style = \"text-align: right;\">0.0</td><td style = \"text-align: right;\">0.0</td><td style = \"text-align: right;\">0.0</td><td style = \"text-align: right;\">0.0899135</td><td style = \"text-align: right;\">0.0</td><td style = \"text-align: right;\">0.0</td><td style = \"text-align: right;\">0.0</td><td style = \"text-align: right;\">0.0</td><td style = \"text-align: right;\">0.0</td><td style = \"text-align: right;\">0.0</td><td style = \"text-align: right;\">0.0</td><td style = \"text-align: right;\">0.145184</td><td style = \"text-align: right;\">0.0645668</td><td style = \"text-align: right;\">0.0</td><td style = \"text-align: right;\">0.0</td><td style = \"text-align: right;\">0.0</td><td style = \"text-align: right;\">0.076926</td></tr><tr><td class = \"rowNumber\" style = \"font-weight: bold; text-align: right;\">2</td><td style = \"text-align: left;\">2024-10-01</td><td style = \"text-align: right;\">0.0</td><td style = \"text-align: right;\">0.0</td><td style = \"text-align: right;\">0.0</td><td style = \"text-align: right;\">0.0</td><td style = \"text-align: right;\">0.0</td><td style = \"text-align: right;\">0.0</td><td style = \"text-align: right;\">0.0</td><td style = \"text-align: right;\">0.186536</td><td style = \"text-align: right;\">0.0940235</td><td style = \"text-align: right;\">0.0</td><td style = \"text-align: right;\">0.0</td><td style = \"text-align: right;\">0.0</td><td style = \"text-align: right;\">0.0</td><td style = \"text-align: right;\">0.0</td><td style = \"text-align: right;\">0.0</td><td style = \"text-align: right;\">0.0</td><td style = \"text-align: right;\">0.0</td><td style = \"text-align: right;\">0.0</td><td style = \"text-align: right;\">0.0</td><td style = \"text-align: right;\">0.0</td><td style = \"text-align: right;\">0.0</td><td style = \"text-align: right;\">0.0</td><td style = \"text-align: right;\">0.2</td><td style = \"text-align: right;\">0.0</td><td style = \"text-align: right;\">0.0</td><td style = \"text-align: right;\">0.0</td><td style = \"text-align: right;\">0.0</td><td style = \"text-align: right;\">0.0</td><td style = \"text-align: right;\">0.0</td><td style = \"text-align: right;\">0.0166231</td><td style = \"text-align: right;\">0.0</td><td style = \"text-align: right;\">0.0</td><td style = \"text-align: right;\">0.0</td><td style = \"text-align: right;\">0.0</td><td style = \"text-align: right;\">0.0</td><td style = \"text-align: right;\">0.0</td><td style = \"text-align: right;\">0.0</td><td style = \"text-align: right;\">0.0</td><td style = \"text-align: right;\">0.0</td><td style = \"text-align: right;\">0.0</td><td style = \"text-align: right;\">0.0</td><td style = \"text-align: right;\">0.0</td><td style = \"text-align: right;\">0.0</td><td style = \"text-align: right;\">0.0</td><td style = \"text-align: right;\">0.102818</td><td style = \"text-align: right;\">0.0</td><td style = \"text-align: right;\">0.0</td><td style = \"text-align: right;\">0.2</td><td style = \"text-align: right;\">0.2</td><td style = \"text-align: right;\">0.0</td></tr><tr><td class = \"rowNumber\" style = \"font-weight: bold; text-align: right;\">3</td><td style = \"text-align: left;\">2025-01-02</td><td style = \"text-align: right;\">0.0</td><td style = \"text-align: right;\">0.0</td><td style = \"text-align: right;\">0.0277314</td><td style = \"text-align: right;\">0.0</td><td style = \"text-align: right;\">0.0</td><td style = \"text-align: right;\">0.0</td><td style = \"text-align: right;\">0.2</td><td style = \"text-align: right;\">0.0</td><td style = \"text-align: right;\">0.0</td><td style = \"text-align: right;\">0.0</td><td style = \"text-align: right;\">0.0</td><td style = \"text-align: right;\">0.0</td><td style = \"text-align: right;\">0.0196745</td><td style = \"text-align: right;\">0.0</td><td style = \"text-align: right;\">0.0</td><td style = \"text-align: right;\">0.0</td><td style = \"text-align: right;\">0.0</td><td style = \"text-align: right;\">0.0</td><td style = \"text-align: right;\">0.0</td><td style = \"text-align: right;\">0.0</td><td style = \"text-align: right;\">0.0</td><td style = \"text-align: right;\">0.0</td><td style = \"text-align: right;\">0.2</td><td style = \"text-align: right;\">0.0</td><td style = \"text-align: right;\">0.0</td><td style = \"text-align: right;\">0.0</td><td style = \"text-align: right;\">0.0117201</td><td style = \"text-align: right;\">0.0</td><td style = \"text-align: right;\">0.0</td><td style = \"text-align: right;\">0.0</td><td style = \"text-align: right;\">0.0</td><td style = \"text-align: right;\">0.0</td><td style = \"text-align: right;\">0.0</td><td style = \"text-align: right;\">0.0</td><td style = \"text-align: right;\">0.0</td><td style = \"text-align: right;\">0.0</td><td style = \"text-align: right;\">0.0</td><td style = \"text-align: right;\">0.0</td><td style = \"text-align: right;\">0.140874</td><td style = \"text-align: right;\">0.0</td><td style = \"text-align: right;\">0.0</td><td style = \"text-align: right;\">0.0</td><td style = \"text-align: right;\">0.0</td><td style = \"text-align: right;\">0.0</td><td style = \"text-align: right;\">0.2</td><td style = \"text-align: right;\">0.0</td><td style = \"text-align: right;\">0.0</td><td style = \"text-align: right;\">0.0</td><td style = \"text-align: right;\">0.2</td><td style = \"text-align: right;\">0.0</td></tr><tr><td class = \"rowNumber\" style = \"font-weight: bold; text-align: right;\">4</td><td style = \"text-align: left;\">2025-04-01</td><td style = \"text-align: right;\">0.0</td><td style = \"text-align: right;\">0.0</td><td style = \"text-align: right;\">0.0</td><td style = \"text-align: right;\">0.0</td><td style = \"text-align: right;\">0.0</td><td style = \"text-align: right;\">0.0</td><td style = \"text-align: right;\">0.0</td><td style = \"text-align: right;\">0.0</td><td style = \"text-align: right;\">0.0857606</td><td style = \"text-align: right;\">0.0449348</td><td style = \"text-align: right;\">0.0</td><td style = \"text-align: right;\">0.0</td><td style = \"text-align: right;\">0.0</td><td style = \"text-align: right;\">0.0</td><td style = \"text-align: right;\">0.0</td><td style = \"text-align: right;\">0.0</td><td style = \"text-align: right;\">0.0119115</td><td style = \"text-align: right;\">0.0</td><td style = \"text-align: right;\">0.2</td><td style = \"text-align: right;\">0.2</td><td style = \"text-align: right;\">0.0</td><td style = \"text-align: right;\">0.0</td><td style = \"text-align: right;\">0.0</td><td style = \"text-align: right;\">0.0</td><td style = \"text-align: right;\">0.0</td><td style = \"text-align: right;\">0.00619637</td><td style = \"text-align: right;\">0.0</td><td style = \"text-align: right;\">0.0</td><td style = \"text-align: right;\">0.0511968</td><td style = \"text-align: right;\">0.0</td><td style = \"text-align: right;\">0.0</td><td style = \"text-align: right;\">0.0</td><td style = \"text-align: right;\">0.0</td><td style = \"text-align: right;\">0.2</td><td style = \"text-align: right;\">0.0</td><td style = \"text-align: right;\">0.0</td><td style = \"text-align: right;\">0.0</td><td style = \"text-align: right;\">0.0</td><td style = \"text-align: right;\">0.0</td><td style = \"text-align: right;\">0.0</td><td style = \"text-align: right;\">0.0</td><td style = \"text-align: right;\">0.0</td><td style = \"text-align: right;\">0.0</td><td style = \"text-align: right;\">0.0</td><td style = \"text-align: right;\">0.0</td><td style = \"text-align: right;\">0.0</td><td style = \"text-align: right;\">0.0</td><td style = \"text-align: right;\">0.0</td><td style = \"text-align: right;\">0.2</td><td style = \"text-align: right;\">0.0</td></tr><tr><td class = \"rowNumber\" style = \"font-weight: bold; text-align: right;\">5</td><td style = \"text-align: left;\">2025-07-01</td><td style = \"text-align: right;\">0.0</td><td style = \"text-align: right;\">0.0</td><td style = \"text-align: right;\">0.0</td><td style = \"text-align: right;\">0.0</td><td style = \"text-align: right;\">0.0</td><td style = \"text-align: right;\">0.0</td><td style = \"text-align: right;\">0.0325515</td><td style = \"text-align: right;\">0.2</td><td style = \"text-align: right;\">0.2</td><td style = \"text-align: right;\">0.0</td><td style = \"text-align: right;\">0.06036</td><td style = \"text-align: right;\">0.0</td><td style = \"text-align: right;\">0.0</td><td style = \"text-align: right;\">0.0</td><td style = \"text-align: right;\">0.00290373</td><td style = \"text-align: right;\">0.0</td><td style = \"text-align: right;\">0.0</td><td style = \"text-align: right;\">0.0</td><td style = \"text-align: right;\">0.0</td><td style = \"text-align: right;\">0.147889</td><td style = \"text-align: right;\">0.0</td><td style = \"text-align: right;\">0.0</td><td style = \"text-align: right;\">0.0</td><td style = \"text-align: right;\">0.0</td><td style = \"text-align: right;\">0.0</td><td style = \"text-align: right;\">0.0</td><td style = \"text-align: right;\">0.0</td><td style = \"text-align: right;\">0.0</td><td style = \"text-align: right;\">0.0747638</td><td style = \"text-align: right;\">0.0</td><td style = \"text-align: right;\">0.0</td><td style = \"text-align: right;\">0.0</td><td style = \"text-align: right;\">0.0</td><td style = \"text-align: right;\">0.000470611</td><td style = \"text-align: right;\">0.0</td><td style = \"text-align: right;\">0.0</td><td style = \"text-align: right;\">0.0</td><td style = \"text-align: right;\">0.0</td><td style = \"text-align: right;\">0.0</td><td style = \"text-align: right;\">0.0810617</td><td style = \"text-align: right;\">0.0</td><td style = \"text-align: right;\">0.0</td><td style = \"text-align: right;\">0.0</td><td style = \"text-align: right;\">0.0</td><td style = \"text-align: right;\">0.0</td><td style = \"text-align: right;\">0.0</td><td style = \"text-align: right;\">0.0</td><td style = \"text-align: right;\">0.0</td><td style = \"text-align: right;\">0.2</td><td style = \"text-align: right;\">0.0</td></tr></tbody></table></div>"
      ],
      "text/latex": [
       "\\begin{tabular}{r|cccccccccc}\n",
       "\t& Date & AAPL & MSFT & GOOGL & AMZN & META & NVDA & AVGO & ORCL & \\\\\n",
       "\t\\hline\n",
       "\t& Date & Float64 & Float64 & Float64 & Float64 & Float64 & Float64 & Float64 & Float64 & \\\\\n",
       "\t\\hline\n",
       "\t1 & 2024-07-01 & 0.2 & 0.0 & 0.0 & 0.0 & 0.0 & 0.2 & 0.02 & 0.00340957 & $\\dots$ \\\\\n",
       "\t2 & 2024-10-01 & 0.0 & 0.0 & 0.0 & 0.0 & 0.0 & 0.0 & 0.0 & 0.186536 & $\\dots$ \\\\\n",
       "\t3 & 2025-01-02 & 0.0 & 0.0 & 0.0277314 & 0.0 & 0.0 & 0.0 & 0.2 & 0.0 & $\\dots$ \\\\\n",
       "\t4 & 2025-04-01 & 0.0 & 0.0 & 0.0 & 0.0 & 0.0 & 0.0 & 0.0 & 0.0 & $\\dots$ \\\\\n",
       "\t5 & 2025-07-01 & 0.0 & 0.0 & 0.0 & 0.0 & 0.0 & 0.0 & 0.0325515 & 0.2 & $\\dots$ \\\\\n",
       "\\end{tabular}\n"
      ],
      "text/plain": [
       "\u001b[1m5×51 DataFrame\u001b[0m\n",
       "\u001b[1m Row \u001b[0m│\u001b[1m Date       \u001b[0m\u001b[1m AAPL    \u001b[0m\u001b[1m MSFT    \u001b[0m\u001b[1m GOOGL     \u001b[0m\u001b[1m AMZN    \u001b[0m\u001b[1m META    \u001b[0m\u001b[1m NVDA    \u001b[0m\u001b[1m AVG\u001b[0m ⋯\n",
       "     │\u001b[90m Date       \u001b[0m\u001b[90m Float64 \u001b[0m\u001b[90m Float64 \u001b[0m\u001b[90m Float64   \u001b[0m\u001b[90m Float64 \u001b[0m\u001b[90m Float64 \u001b[0m\u001b[90m Float64 \u001b[0m\u001b[90m Flo\u001b[0m ⋯\n",
       "─────┼──────────────────────────────────────────────────────────────────────────\n",
       "   1 │ 2024-07-01      0.2      0.0  0.0            0.0      0.0      0.2  0.0 ⋯\n",
       "   2 │ 2024-10-01      0.0      0.0  0.0            0.0      0.0      0.0  0.0\n",
       "   3 │ 2025-01-02      0.0      0.0  0.0277314      0.0      0.0      0.0  0.2\n",
       "   4 │ 2025-04-01      0.0      0.0  0.0            0.0      0.0      0.0  0.0\n",
       "   5 │ 2025-07-01      0.0      0.0  0.0            0.0      0.0      0.0  0.0 ⋯\n",
       "\u001b[36m                                                              44 columns omitted\u001b[0m"
      ]
     },
     "execution_count": 24,
     "metadata": {},
     "output_type": "execute_result"
    }
   ],
   "source": [
    "weights_df"
   ]
  },
  {
   "cell_type": "code",
   "execution_count": 25,
   "id": "f5354331",
   "metadata": {},
   "outputs": [
    {
     "data": {
      "text/plain": [
       "\"out\\\\portfolio_daily.csv\""
      ]
     },
     "execution_count": 25,
     "metadata": {},
     "output_type": "execute_result"
    }
   ],
   "source": [
    "# Daily portfolio wealth series (from first rebalance day to \"today\")\n",
    "daily_df = DataFrame(Date=daily_dates, portfolio_value=daily_pv)\n",
    "CSV.write(joinpath(\"out\", \"portfolio_daily.csv\"), daily_df)"
   ]
  },
  {
   "cell_type": "code",
   "execution_count": 26,
   "id": "c74ca359",
   "metadata": {},
   "outputs": [
    {
     "data": {
      "text/html": [
       "<div><div style = \"float: left;\"><span>295×2 DataFrame</span></div><div style = \"float: right;\"><span style = \"font-style: italic;\">270 rows omitted</span></div><div style = \"clear: both;\"></div></div><div class = \"data-frame\" style = \"overflow-x: scroll;\"><table class = \"data-frame\" style = \"margin-bottom: 6px;\"><thead><tr class = \"header\"><th class = \"rowNumber\" style = \"font-weight: bold; text-align: right;\">Row</th><th style = \"text-align: left;\">Date</th><th style = \"text-align: left;\">portfolio_value</th></tr><tr class = \"subheader headerLastRow\"><th class = \"rowNumber\" style = \"font-weight: bold; text-align: right;\"></th><th title = \"Date\" style = \"text-align: left;\">Date</th><th title = \"Float64\" style = \"text-align: left;\">Float64</th></tr></thead><tbody><tr><td class = \"rowNumber\" style = \"font-weight: bold; text-align: right;\">1</td><td style = \"text-align: left;\">2024-07-01</td><td style = \"text-align: right;\">0.998327</td></tr><tr><td class = \"rowNumber\" style = \"font-weight: bold; text-align: right;\">2</td><td style = \"text-align: left;\">2024-07-02</td><td style = \"text-align: right;\">1.01167</td></tr><tr><td class = \"rowNumber\" style = \"font-weight: bold; text-align: right;\">3</td><td style = \"text-align: left;\">2024-07-03</td><td style = \"text-align: right;\">1.03558</td></tr><tr><td class = \"rowNumber\" style = \"font-weight: bold; text-align: right;\">4</td><td style = \"text-align: left;\">2024-07-05</td><td style = \"text-align: right;\">1.04168</td></tr><tr><td class = \"rowNumber\" style = \"font-weight: bold; text-align: right;\">5</td><td style = \"text-align: left;\">2024-07-08</td><td style = \"text-align: right;\">1.04912</td></tr><tr><td class = \"rowNumber\" style = \"font-weight: bold; text-align: right;\">6</td><td style = \"text-align: left;\">2024-07-09</td><td style = \"text-align: right;\">1.06138</td></tr><tr><td class = \"rowNumber\" style = \"font-weight: bold; text-align: right;\">7</td><td style = \"text-align: left;\">2024-07-10</td><td style = \"text-align: right;\">1.07443</td></tr><tr><td class = \"rowNumber\" style = \"font-weight: bold; text-align: right;\">8</td><td style = \"text-align: left;\">2024-07-11</td><td style = \"text-align: right;\">1.04139</td></tr><tr><td class = \"rowNumber\" style = \"font-weight: bold; text-align: right;\">9</td><td style = \"text-align: left;\">2024-07-12</td><td style = \"text-align: right;\">1.0563</td></tr><tr><td class = \"rowNumber\" style = \"font-weight: bold; text-align: right;\">10</td><td style = \"text-align: left;\">2024-07-15</td><td style = \"text-align: right;\">1.05824</td></tr><tr><td class = \"rowNumber\" style = \"font-weight: bold; text-align: right;\">11</td><td style = \"text-align: left;\">2024-07-16</td><td style = \"text-align: right;\">1.05741</td></tr><tr><td class = \"rowNumber\" style = \"font-weight: bold; text-align: right;\">12</td><td style = \"text-align: left;\">2024-07-17</td><td style = \"text-align: right;\">1.01724</td></tr><tr><td class = \"rowNumber\" style = \"font-weight: bold; text-align: right;\">13</td><td style = \"text-align: left;\">2024-07-18</td><td style = \"text-align: right;\">1.00541</td></tr><tr><td style = \"text-align: right;\">&vellip;</td><td style = \"text-align: right;\">&vellip;</td><td style = \"text-align: right;\">&vellip;</td></tr><tr><td class = \"rowNumber\" style = \"font-weight: bold; text-align: right;\">284</td><td style = \"text-align: left;\">2025-08-18</td><td style = \"text-align: right;\">1.28349</td></tr><tr><td class = \"rowNumber\" style = \"font-weight: bold; text-align: right;\">285</td><td style = \"text-align: left;\">2025-08-19</td><td style = \"text-align: right;\">1.24369</td></tr><tr><td class = \"rowNumber\" style = \"font-weight: bold; text-align: right;\">286</td><td style = \"text-align: left;\">2025-08-20</td><td style = \"text-align: right;\">1.24543</td></tr><tr><td class = \"rowNumber\" style = \"font-weight: bold; text-align: right;\">287</td><td style = \"text-align: left;\">2025-08-21</td><td style = \"text-align: right;\">1.24063</td></tr><tr><td class = \"rowNumber\" style = \"font-weight: bold; text-align: right;\">288</td><td style = \"text-align: left;\">2025-08-22</td><td style = \"text-align: right;\">1.25185</td></tr><tr><td class = \"rowNumber\" style = \"font-weight: bold; text-align: right;\">289</td><td style = \"text-align: left;\">2025-08-25</td><td style = \"text-align: right;\">1.24104</td></tr><tr><td class = \"rowNumber\" style = \"font-weight: bold; text-align: right;\">290</td><td style = \"text-align: left;\">2025-08-26</td><td style = \"text-align: right;\">1.25228</td></tr><tr><td class = \"rowNumber\" style = \"font-weight: bold; text-align: right;\">291</td><td style = \"text-align: left;\">2025-08-27</td><td style = \"text-align: right;\">1.25352</td></tr><tr><td class = \"rowNumber\" style = \"font-weight: bold; text-align: right;\">292</td><td style = \"text-align: left;\">2025-08-28</td><td style = \"text-align: right;\">1.28331</td></tr><tr><td class = \"rowNumber\" style = \"font-weight: bold; text-align: right;\">293</td><td style = \"text-align: left;\">2025-08-29</td><td style = \"text-align: right;\">1.26255</td></tr><tr><td class = \"rowNumber\" style = \"font-weight: bold; text-align: right;\">294</td><td style = \"text-align: left;\">2025-09-02</td><td style = \"text-align: right;\">1.25786</td></tr><tr><td class = \"rowNumber\" style = \"font-weight: bold; text-align: right;\">295</td><td style = \"text-align: left;\">2025-09-03</td><td style = \"text-align: right;\">1.25272</td></tr></tbody></table></div>"
      ],
      "text/latex": [
       "\\begin{tabular}{r|cc}\n",
       "\t& Date & portfolio\\_value\\\\\n",
       "\t\\hline\n",
       "\t& Date & Float64\\\\\n",
       "\t\\hline\n",
       "\t1 & 2024-07-01 & 0.998327 \\\\\n",
       "\t2 & 2024-07-02 & 1.01167 \\\\\n",
       "\t3 & 2024-07-03 & 1.03558 \\\\\n",
       "\t4 & 2024-07-05 & 1.04168 \\\\\n",
       "\t5 & 2024-07-08 & 1.04912 \\\\\n",
       "\t6 & 2024-07-09 & 1.06138 \\\\\n",
       "\t7 & 2024-07-10 & 1.07443 \\\\\n",
       "\t8 & 2024-07-11 & 1.04139 \\\\\n",
       "\t9 & 2024-07-12 & 1.0563 \\\\\n",
       "\t10 & 2024-07-15 & 1.05824 \\\\\n",
       "\t11 & 2024-07-16 & 1.05741 \\\\\n",
       "\t12 & 2024-07-17 & 1.01724 \\\\\n",
       "\t13 & 2024-07-18 & 1.00541 \\\\\n",
       "\t14 & 2024-07-19 & 0.997645 \\\\\n",
       "\t15 & 2024-07-22 & 1.01917 \\\\\n",
       "\t16 & 2024-07-23 & 1.01867 \\\\\n",
       "\t17 & 2024-07-24 & 0.969137 \\\\\n",
       "\t18 & 2024-07-25 & 0.956413 \\\\\n",
       "\t19 & 2024-07-26 & 0.960555 \\\\\n",
       "\t20 & 2024-07-29 & 0.962933 \\\\\n",
       "\t21 & 2024-07-30 & 0.935649 \\\\\n",
       "\t22 & 2024-07-31 & 0.97897 \\\\\n",
       "\t23 & 2024-08-01 & 0.95624 \\\\\n",
       "\t24 & 2024-08-02 & 0.934268 \\\\\n",
       "\t25 & 2024-08-05 & 0.893446 \\\\\n",
       "\t26 & 2024-08-06 & 0.907498 \\\\\n",
       "\t27 & 2024-08-07 & 0.888768 \\\\\n",
       "\t28 & 2024-08-08 & 0.932277 \\\\\n",
       "\t29 & 2024-08-09 & 0.949635 \\\\\n",
       "\t30 & 2024-08-12 & 0.956717 \\\\\n",
       "\t$\\dots$ & $\\dots$ & $\\dots$ \\\\\n",
       "\\end{tabular}\n"
      ],
      "text/plain": [
       "\u001b[1m295×2 DataFrame\u001b[0m\n",
       "\u001b[1m Row \u001b[0m│\u001b[1m Date       \u001b[0m\u001b[1m portfolio_value \u001b[0m\n",
       "     │\u001b[90m Date       \u001b[0m\u001b[90m Float64         \u001b[0m\n",
       "─────┼─────────────────────────────\n",
       "   1 │ 2024-07-01         0.998327\n",
       "   2 │ 2024-07-02         1.01167\n",
       "   3 │ 2024-07-03         1.03558\n",
       "   4 │ 2024-07-05         1.04168\n",
       "   5 │ 2024-07-08         1.04912\n",
       "   6 │ 2024-07-09         1.06138\n",
       "   7 │ 2024-07-10         1.07443\n",
       "   8 │ 2024-07-11         1.04139\n",
       "   9 │ 2024-07-12         1.0563\n",
       "  10 │ 2024-07-15         1.05824\n",
       "  11 │ 2024-07-16         1.05741\n",
       "  ⋮  │     ⋮              ⋮\n",
       " 286 │ 2025-08-20         1.24543\n",
       " 287 │ 2025-08-21         1.24063\n",
       " 288 │ 2025-08-22         1.25185\n",
       " 289 │ 2025-08-25         1.24104\n",
       " 290 │ 2025-08-26         1.25228\n",
       " 291 │ 2025-08-27         1.25352\n",
       " 292 │ 2025-08-28         1.28331\n",
       " 293 │ 2025-08-29         1.26255\n",
       " 294 │ 2025-09-02         1.25786\n",
       " 295 │ 2025-09-03         1.25272\n",
       "\u001b[36m                   274 rows omitted\u001b[0m"
      ]
     },
     "execution_count": 26,
     "metadata": {},
     "output_type": "execute_result"
    }
   ],
   "source": [
    "daily_df"
   ]
  },
  {
   "cell_type": "code",
   "execution_count": 29,
   "id": "dd83ec63",
   "metadata": {},
   "outputs": [
    {
     "data": {
      "text/plain": [
       "\"out\\\\graph.csv\""
      ]
     },
     "execution_count": 29,
     "metadata": {},
     "output_type": "execute_result"
    }
   ],
   "source": [
    "# data for graphing in post optimization analysis\n",
    "CSV.write(joinpath(\"out\", \"graph.csv\"), graph_df)"
   ]
  }
 ],
 "metadata": {
  "kernelspec": {
   "display_name": "Julia 1.8.5",
   "language": "julia",
   "name": "julia-1.8"
  },
  "language_info": {
   "file_extension": ".jl",
   "mimetype": "application/julia",
   "name": "julia",
   "version": "1.8.5"
  }
 },
 "nbformat": 4,
 "nbformat_minor": 5
}
